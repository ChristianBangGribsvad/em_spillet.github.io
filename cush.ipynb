{
 "cells": [
  {
   "cell_type": "code",
   "execution_count": 124,
   "metadata": {},
   "outputs": [],
   "source": [
    "import pandas as pd\n",
    "from get_results import *\n",
    "import pickle\n",
    "from datetime import date\n",
    "import os\n",
    "cwd = os.getcwd()\n",
    "import pdb\n",
    "import numpy as np\n",
    "import random"
   ]
  },
  {
   "cell_type": "markdown",
   "metadata": {},
   "source": [
    "### get_results()"
   ]
  },
  {
   "cell_type": "code",
   "execution_count": 2,
   "metadata": {},
   "outputs": [],
   "source": [
    "import requests\n",
    "import json\n",
    "import pickle\n",
    "import os\n",
    "import pdb\n",
    "cwd = os.getcwd()\n",
    "\n",
    "def process_match(match):\n",
    "    hometeam = match[\"homeTeam\"][\"name\"]\n",
    "    awayteam = match[\"awayTeam\"][\"name\"]\n",
    "    homescore = match[\"score\"][\"fullTime\"][\"home\"]\n",
    "    awayscore = match[\"score\"][\"fullTime\"][\"away\"]\n",
    "    group =  match[\"group\"]\n",
    "    stage = match[\"stage\"]\n",
    "    score = f\"{homescore} - {awayscore}\"\n",
    "    if stage == \"GROUP_STAGE\":\n",
    "        letter = group[-1]\n",
    "        matchid = f\"Group {letter} Predictions [{hometeam} - {awayteam}]\"\n",
    "    else:\n",
    "        matchid = f\"{stage} Predictions [{hometeam} - {awayteam}]\"\n",
    "    return matchid,score\n",
    "\n",
    "def get_results():\n",
    "    uri = 'https://api.football-data.org/v4/competitions/EC/matches'\n",
    "    headers = { 'X-Auth-Token': '242e02ff31ea497fbe4b85978fe70b81' }\n",
    "    \n",
    "    response = requests.get(uri, headers=headers)\n",
    "    \n",
    "    matches  = response.json()[\"matches\"]\n",
    "    results = []\n",
    "    for m in matches:\n",
    "        results.append(process_match(m))\n",
    "    return results\n",
    "\n",
    "\n",
    "def save_results(filename,a):\n",
    "    with open(filename, 'wb') as handle:\n",
    "        pickle.dump(a, handle)\n",
    "\n",
    "def load_results(filename):\n",
    "    with open(filename, 'rb') as handle:\n",
    "        b = pickle.load(handle)\n",
    "    return b\n",
    "\n",
    "# Function that fetches the largest index of downloaded data\n",
    "def get_highest_result_number():\n",
    "    n_file = 0\n",
    "    for i in range(100):\n",
    "        isf = os.path.isfile(cwd + f\"/results/data_{i}.pickle\")\n",
    "        if isf:\n",
    "            n_file = i\n",
    "    return n_file"
   ]
  },
  {
   "cell_type": "markdown",
   "metadata": {},
   "source": [
    "### main"
   ]
  },
  {
   "cell_type": "code",
   "execution_count": 3,
   "metadata": {},
   "outputs": [],
   "source": [
    "results = get_results()\n",
    "date = date.today()\n",
    "datafile = [results,date]\n",
    "n_file = get_highest_result_number()\n",
    "\n",
    "prev_results = load_results(cwd + f\"/results/data_{n_file}.pickle\")\n",
    "if prev_results[0] != results:\n",
    "    print(\"New results saved\")\n",
    "    save_results(cwd + f\"/results/data_{n_file+1}.pickle\",datafile)\n",
    "\n",
    "\n",
    "predictions = pd.read_csv(\"EM spillet 2024.csv\")"
   ]
  },
  {
   "cell_type": "code",
   "execution_count": 16,
   "metadata": {},
   "outputs": [
    {
     "data": {
      "text/plain": [
       "'2-0'"
      ]
     },
     "execution_count": 16,
     "metadata": {},
     "output_type": "execute_result"
    }
   ],
   "source": [
    "# Eval predictions against results - DONE\n",
    "\n",
    "def eval_match_predictions(predictions_df , results):\n",
    "    # Convert results to a dict (and select only group stage matches)\n",
    "    results_dict = {results[x][0]:results[x][1] for x in range(len(results)) if \"Group\" in results[x][0]}\n",
    "    # Select the group stage matches in predictions\n",
    "    predictions = predictions_df.iloc[:,3:39]\n",
    "    \n",
    "    # Initialize empty points var\n",
    "    points = 0\n",
    "    for i in range(len(predictions)):\n",
    "        pred = predictions.iloc[0,i]\n",
    "        res = results_dict[predictions.columns[i]]\n",
    "        \n",
    "        # Check for nan (to be able to do temporary standings)\n",
    "        if res != res or pred != pred:\n",
    "            continue\n",
    "        else:\n",
    "            ### 15 points, correct score for both teams\n",
    "            if pred == res:\n",
    "                points += 15\n",
    "        \n",
    "            ### 10 points, correct outcome and score for one team\n",
    "            # Home team wins and correct score of home team    \n",
    "            elif res[0]>res[2] and pred[0]>pred[2] and res[0] == pred[0]:\n",
    "                points += 10\n",
    "            # Home team wins and correct score of away team  \n",
    "            elif res[0]>res[2] and pred[0]>pred[2] and res[2] == pred[2]:\n",
    "                points += 10\n",
    "            # Away team wins and correct score of home team  \n",
    "            elif res[0]<res[2] and pred[0]<pred[2] and res[0] == pred[0]:\n",
    "                points += 10\n",
    "            # Away team wins and correct score of away team  \n",
    "            elif res[0]<res[2] and pred[0]<pred[2] and res[2] == pred[2]:\n",
    "                points += 10\n",
    "            \n",
    "            ### 5 points, correct outcome (winner or tie)\n",
    "            # Home team wins\n",
    "            elif res[0]>res[2] and pred[0]>pred[2]:\n",
    "                points += 5\n",
    "            # Away team wins\n",
    "            elif res[0]<res[2] and pred[0]<pred[2]:\n",
    "                points += 5\n",
    "            # Tie\n",
    "            elif res[0]==res[2] and pred[0]==pred[2]:\n",
    "                points += 5   \n",
    "                \n",
    "            ### 2 points, correct score for one team\n",
    "            # Home team correct score\n",
    "            elif res[0]==pred[0]:\n",
    "                points += 2\n",
    "            # Away team correct score\n",
    "            elif res[2]==pred[2]:\n",
    "                points += 2\n",
    "                \n",
    "    return points"
   ]
  },
  {
   "cell_type": "code",
   "execution_count": 65,
   "metadata": {},
   "outputs": [
    {
     "data": {
      "text/plain": [
       "{'Group A Predictions [Germany - Scotland]': 'None - None',\n",
       " 'Group A Predictions [Hungary - Switzerland]': 'None - None',\n",
       " 'Group B Predictions [Spain - Croatia]': 'None - None',\n",
       " 'Group B Predictions [Italy - Albania]': 'None - None',\n",
       " 'Group D Predictions [Poland - Netherlands]': 'None - None',\n",
       " 'Group C Predictions [Slovenia - Denmark]': 'None - None',\n",
       " 'Group C Predictions [Serbia - England]': 'None - None',\n",
       " 'Group E Predictions [Romania - Ukraine]': 'None - None',\n",
       " 'Group E Predictions [Belgium - Slovakia]': 'None - None',\n",
       " 'Group D Predictions [Austria - France]': 'None - None',\n",
       " 'Group F Predictions [Turkey - Georgia]': 'None - None',\n",
       " 'Group F Predictions [Portugal - Czechia]': 'None - None',\n",
       " 'Group B Predictions [Croatia - Albania]': 'None - None',\n",
       " 'Group A Predictions [Germany - Hungary]': 'None - None',\n",
       " 'Group A Predictions [Scotland - Switzerland]': 'None - None',\n",
       " 'Group C Predictions [Slovenia - Serbia]': 'None - None',\n",
       " 'Group C Predictions [Denmark - England]': 'None - None',\n",
       " 'Group B Predictions [Spain - Italy]': 'None - None',\n",
       " 'Group E Predictions [Slovakia - Ukraine]': 'None - None',\n",
       " 'Group D Predictions [Poland - Austria]': 'None - None',\n",
       " 'Group D Predictions [Netherlands - France]': 'None - None',\n",
       " 'Group F Predictions [Georgia - Czechia]': 'None - None',\n",
       " 'Group F Predictions [Turkey - Portugal]': 'None - None',\n",
       " 'Group E Predictions [Belgium - Romania]': 'None - None',\n",
       " 'Group A Predictions [Scotland - Hungary]': 'None - None',\n",
       " 'Group A Predictions [Switzerland - Germany]': 'None - None',\n",
       " 'Group B Predictions [Albania - Spain]': 'None - None',\n",
       " 'Group B Predictions [Croatia - Italy]': 'None - None',\n",
       " 'Group D Predictions [France - Poland]': 'None - None',\n",
       " 'Group D Predictions [Netherlands - Austria]': 'None - None',\n",
       " 'Group C Predictions [Denmark - Serbia]': 'None - None',\n",
       " 'Group C Predictions [England - Slovenia]': 'None - None',\n",
       " 'Group E Predictions [Ukraine - Belgium]': 'None - None',\n",
       " 'Group E Predictions [Slovakia - Romania]': 'None - None',\n",
       " 'Group F Predictions [Czechia - Turkey]': 'None - None',\n",
       " 'Group F Predictions [Georgia - Portugal]': 'None - None'}"
      ]
     },
     "execution_count": 65,
     "metadata": {},
     "output_type": "execute_result"
    }
   ],
   "source": [
    "results_dict = {results[x][0]:results[x][1] for x in range(len(results)) if \"Group\" in results[x][0]}\n",
    "results_dict"
   ]
  },
  {
   "cell_type": "code",
   "execution_count": 126,
   "metadata": {},
   "outputs": [],
   "source": [
    "results_dict2 = results_dict.copy()\n",
    "results_dict3 = {k:str(random.randint(0,4))+\"-\"+str(random.randint(0,4)) for k,v in results_dict2.items()}"
   ]
  },
  {
   "cell_type": "code",
   "execution_count": 157,
   "metadata": {},
   "outputs": [
    {
     "name": "stdout",
     "output_type": "stream",
     "text": [
      "{'Germany': {'points': 4, 'goals_for': 7, 'goals_against': 8}, 'Hungary': {'points': 3, 'goals_for': 5, 'goals_against': 5}, 'Scotland': {'points': 5, 'goals_for': 8, 'goals_against': 6}, 'Switzerland': {'points': 4, 'goals_for': 5, 'goals_against': 6}}\n",
      "{'Albania': {'points': 4, 'goals_for': 11, 'goals_against': 11}, 'Croatia': {'points': 7, 'goals_for': 11, 'goals_against': 9}, 'Italy': {'points': 3, 'goals_for': 9, 'goals_against': 9}, 'Spain': {'points': 3, 'goals_for': 7, 'goals_against': 9}}\n",
      "{'Denmark': {'points': 7, 'goals_for': 10, 'goals_against': 8}, 'England': {'points': 5, 'goals_for': 5, 'goals_against': 4}, 'Serbia': {'points': 2, 'goals_for': 6, 'goals_against': 7}, 'Slovenia': {'points': 1, 'goals_for': 4, 'goals_against': 6}}\n",
      "{'Austria': {'points': 6, 'goals_for': 10, 'goals_against': 4}, 'France': {'points': 3, 'goals_for': 4, 'goals_against': 6}, 'Netherlands': {'points': 3, 'goals_for': 3, 'goals_against': 6}, 'Poland': {'points': 6, 'goals_for': 3, 'goals_against': 4}}\n",
      "{'Belgium': {'points': 7, 'goals_for': 5, 'goals_against': 2}, 'Romania': {'points': 5, 'goals_for': 7, 'goals_against': 6}, 'Slovakia': {'points': 1, 'goals_for': 5, 'goals_against': 9}, 'Ukraine': {'points': 3, 'goals_for': 3, 'goals_against': 3}}\n",
      "{'Czechia': {'points': 0, 'goals_for': 3, 'goals_against': 7}, 'Georgia': {'points': 6, 'goals_for': 6, 'goals_against': 7}, 'Portugal': {'points': 6, 'goals_for': 8, 'goals_against': 5}, 'Turkey': {'points': 6, 'goals_for': 5, 'goals_against': 3}}\n"
     ]
    }
   ],
   "source": [
    "all_group_names = np.unique([k[:7] for k,v in results_dict3.items()]).tolist()\n",
    "all_group_res = {group:{\"1st\":\"\",\"2nd\":\"\"} for group in all_group_names}\n",
    "\n",
    "\n",
    "for group_name in all_group_names:\n",
    "    group_results = {k: v for k,v in results_dict3.items() if k[:7] == group_name}\n",
    "    group_home_countries = [k.split(\"[\")[-1].split(\"]\")[0].split(\"-\")[0].strip() for k in list(group_results.keys())]\n",
    "    group_away_countries = [k.split(\"[\")[-1].split(\"]\")[0].split(\"-\")[1].strip() for k in list(group_results.keys())]\n",
    "    group_countries = np.unique(group_home_countries + group_away_countries).tolist()\n",
    "    \n",
    "    group_eval = {country:{\"points\":0,\"goals_for\":0,\"goals_against\":0}  for country in group_countries}\n",
    "    \n",
    "    for k,v in group_results.items():\n",
    "        home_team = k.split(\"[\")[-1].split(\"]\")[0].split(\"-\")[0].strip()\n",
    "        away_team = k.split(\"[\")[-1].split(\"]\")[0].split(\"-\")[1].strip()    \n",
    "        \n",
    "        home_score = v.split(\"-\")[0].strip()\n",
    "        away_score = v.split(\"-\")[1].strip()\n",
    "        \n",
    "        if home_score == \"None\" or away_score == \"None\":\n",
    "            print(\"No results for\",home_team,\"-\",away_team)\n",
    "\n",
    "        else:\n",
    "            group_eval[home_team][\"goals_for\"] += int(home_score)\n",
    "            group_eval[home_team][\"goals_against\"] += int(away_score)\n",
    "            \n",
    "            group_eval[away_team][\"goals_for\"] += int(away_score)\n",
    "            group_eval[away_team][\"goals_against\"] += int(home_score)\n",
    "            \n",
    "            if int(home_score) > int(away_score):\n",
    "                group_eval[home_team][\"points\"] += 3\n",
    "            elif int(home_score) < int(away_score):\n",
    "                group_eval[away_team][\"points\"] += 3\n",
    "            elif int(home_score) == int(away_score):\n",
    "                group_eval[away_team][\"points\"] += 1\n",
    "                group_eval[home_team][\"points\"] += 1\n",
    "                                \n",
    "    # Find 1st and 2nd place in group\n",
    "    group_stand = {k:v[\"points\"] for k,v in group_eval.items()}\n",
    "    group_stand = dict(sorted(group_stand.items(), key=lambda item: item[1], reverse = True))\n",
    "     \n",
    "    if sum(np.array(list(group_stand.values())) == max(list(group_stand.values()))) == 1:\n",
    "        # The scenario where only 1 team has max points\n",
    "        all_group_res[group_name][\"1st\"] = list(group_stand.keys())[0]\n",
    "        # Remove 1st team\n",
    "        del group_stand[list(group_stand.keys())[0]]\n",
    "        \n",
    "        # Find 2nd best team\n",
    "        if sum(np.array(list(group_stand.values())) == max(list(group_stand.values()))) == 1:\n",
    "            # The scenario where only 1 team has 2nd most points\n",
    "            all_group_res[group_name][\"2nd\"] = list(group_stand.keys())[0]\n",
    "        elif sum(np.array(list(group_stand.values())) == max(list(group_stand.values()))) > 1:\n",
    "            # The scenario where multiple teams have 2nd most points - look into match results\n",
    "            \n",
    "            # The scenario where multiple teams have max points - look into goal difference\n",
    "            equal_teams = np.array(list(group_stand.keys()))[np.array(list(group_stand.values())) == max(list(group_stand.values()))].tolist()\n",
    "            equal_points = {team:group_eval[team][\"goals_for\"]-group_eval[team][\"goals_against\"] for team in equal_teams}\n",
    "            equal_points = dict(sorted(equal_points.items(), key=lambda item: item[1], reverse = True))\n",
    "            all_group_res[group_name][\"2nd\"] = list(equal_points.keys())[0]\n",
    "            \n",
    "    elif sum(np.array(list(group_stand.values())) == max(list(group_stand.values()))) > 1:\n",
    "        # The scenario where multiple teams have max points - look into match results\n",
    "        \n",
    "        # The scenario where multiple teams have max points - look into goal difference\n",
    "        \n",
    "        # Find the equal teams\n",
    "        equal_teams = np.array(list(group_stand.keys()))[np.array(list(group_stand.values())) == max(list(group_stand.values()))].tolist()\n",
    "        # Compute goal difference for each equal team \n",
    "        equal_points = {team:group_eval[team][\"goals_for\"]-group_eval[team][\"goals_against\"] for team in equal_teams}\n",
    "        # Sort the equal teams based on goal difference \n",
    "        equal_points = dict(sorted(equal_points.items(), key=lambda item: item[1], reverse = True))\n",
    "        \n",
    "        # Check if goal difference is equal\n",
    "        \n",
    "        # Select winners\n",
    "        all_group_res[group_name][\"1st\"] = list(equal_points.keys())[0]\n",
    "        all_group_res[group_name][\"2nd\"] = list(equal_points.keys())[1]\n",
    "        \n",
    "        # There is an unlikely edge case: equal teams can have same goal difference. Then it is down to most goal scored. \n",
    "        # If that is also equal then it is down to the score of the match between the teams.\n",
    "    \n",
    "    print(group_eval)    \n",
    "    "
   ]
  },
  {
   "cell_type": "code",
   "execution_count": 158,
   "metadata": {},
   "outputs": [
    {
     "data": {
      "text/plain": [
       "{'Group A': {'1st': 'Scotland', '2nd': 'Germany'},\n",
       " 'Group B': {'1st': 'Croatia', '2nd': 'Albania'},\n",
       " 'Group C': {'1st': 'Denmark', '2nd': 'England'},\n",
       " 'Group D': {'1st': 'Austria', '2nd': 'Poland'},\n",
       " 'Group E': {'1st': 'Belgium', '2nd': 'Romania'},\n",
       " 'Group F': {'1st': 'Portugal', '2nd': 'Turkey'}}"
      ]
     },
     "execution_count": 158,
     "metadata": {},
     "output_type": "execute_result"
    }
   ],
   "source": [
    "all_group_res"
   ]
  },
  {
   "cell_type": "code",
   "execution_count": null,
   "metadata": {},
   "outputs": [],
   "source": [
    "# Based on results, find group winners\n",
    "def eval_group_winners(results):\n",
    "    results_dict = {results[x][0]:results[x][1] for x in range(len(results)) if \"Group\" in results[x][0]}\n",
    "    \n"
   ]
  },
  {
   "cell_type": "markdown",
   "metadata": {},
   "source": [
    "## Status\n",
    "- Continue developing logic determing group winners (inbyrdes kampe,målforskel,scorede mål)\n",
    "- test logic\n",
    "- Put everythin into get results"
   ]
  }
 ],
 "metadata": {
  "kernelspec": {
   "display_name": "Python 3",
   "language": "python",
   "name": "python3"
  },
  "language_info": {
   "codemirror_mode": {
    "name": "ipython",
    "version": 3
   },
   "file_extension": ".py",
   "mimetype": "text/x-python",
   "name": "python",
   "nbconvert_exporter": "python",
   "pygments_lexer": "ipython3",
   "version": "3.9.13"
  }
 },
 "nbformat": 4,
 "nbformat_minor": 2
}
